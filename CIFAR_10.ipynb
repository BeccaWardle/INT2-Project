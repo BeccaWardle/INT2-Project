{
  "nbformat": 4,
  "nbformat_minor": 0,
  "metadata": {
    "colab": {
      "name": "CIFAR-10.ipynb",
      "provenance": [],
      "collapsed_sections": []
    },
    "kernelspec": {
      "name": "python3",
      "display_name": "Python 3"
    },
    "language_info": {
      "name": "python"
    }
  },
  "cells": [
    {
      "cell_type": "code",
      "metadata": {
        "id": "mBs7Se71X7j6"
      },
      "source": [
        "# https://pytorch.org/vision/stable/datasets.html#torchvision.datasets.CIFAR10\n",
        "\n",
        "import torch\n",
        "from torchvision.datasets import CIFAR10"
      ],
      "execution_count": null,
      "outputs": []
    }
  ]
}